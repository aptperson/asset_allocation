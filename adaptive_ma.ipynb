{
 "cells": [
  {
   "cell_type": "markdown",
   "metadata": {},
   "source": [
    "https://cssanalytics.wordpress.com/2020/12/23/how-should-trend-followers-adjust-to-the-modern-environment-enter-adaptive-momentum/"
   ]
  },
  {
   "cell_type": "code",
   "execution_count": null,
   "metadata": {},
   "outputs": [],
   "source": [
    "from datetime import datetime\n",
    "\n",
    "import pandas as pd\n",
    "import numpy as np\n",
    "import yfinance as yf\n",
    "import plotly.express as px\n",
    "\n",
    "def sharpe_ratio(ret, N=252, verbose=True):\n",
    "    ret = ret[ret!=0]\n",
    "    sr = np.mean(ret) / np.std(ret) * np.sqrt(N)\n",
    "    if verbose:\n",
    "        print(f'SR (rf=0): {sr}')\n",
    "    return sr\n",
    "\n",
    "def compound_annual_growth_rate(cpnl, verbose=True):\n",
    "    t = ((cpnl.index[-1] - cpnl.index[0]) / 365.25)\n",
    "    t = (t.seconds / (24 * 60 * 60) + t.days)\n",
    "    FV = cpnl.values[-1] / cpnl.values[0]\n",
    "    cagr = FV ** (1/t) - 1\n",
    "    if verbose:\n",
    "        print(f'CAGR: {cagr}')\n",
    "    return cagr\n",
    "\n",
    "\n",
    "def annual_returns(df, col='ret'):\n",
    "    return df.groupby(pd.Grouper(freq='Y'), group_keys=False)[col].agg(lambda x: (1+x).prod() - 1).to_frame()\n",
    "\n",
    "\n",
    "def dd_curve(df):\n",
    "    df['dd'] = dd_curve_numba(df.cpnl.values, df.ret.values)\n",
    "    return df\n",
    "\n",
    "from numba import njit\n",
    "@njit\n",
    "def dd_curve_numba(cpnl, ret):\n",
    "    N = len(cpnl)\n",
    "    i=1\n",
    "    hw = cpnl[1]\n",
    "    dd = np.ones(N)\n",
    "    while i < N:\n",
    "        if hw > cpnl[i]:\n",
    "            dd[i] = dd[i-1] * (1 + ret[i])\n",
    "        else:\n",
    "            dd[i] = 1\n",
    "            hw = cpnl[i]\n",
    "        i+=1\n",
    "    return dd - 1\n",
    "    \n",
    "\n",
    "def performance_stats(df, N=12, verbose = True):\n",
    "    sr = sharpe_ratio(df.ret, N, verbose)\n",
    "    cagr = compound_annual_growth_rate(df.cpnl, verbose)\n",
    "    df = dd_curve(df)\n",
    "    max_dd = np.abs(df.dd.min())\n",
    "    if verbose:\n",
    "        print(f'Max draw down {max_dd}')\n",
    "    pm = pd.DataFrame({'sr': sr, 'cagr': cagr, 'max_dd': max_dd}, index=[0])\n",
    "    return df, pm\n"
   ]
  },
  {
   "cell_type": "code",
   "execution_count": null,
   "metadata": {},
   "outputs": [],
   "source": [
    "# offensive_universe = ['SPY', 'IWM', 'EFA', 'EEM', 'VNQ', 'DBC', 'TLT']\n",
    "\n",
    "US_Equities = ['SPY', 'IWM', 'QQQ', 'SPXL', 'TQQQ', 'SPY.AX', '']\n",
    "Foreign_Equities = ['VEA', 'VWO']\n",
    "Alternative_Assets = ['DBC', 'VNQ', 'GLD']\n",
    "US_Bonds = ['IEF', 'TLT']\n",
    "\n",
    "\n",
    "# SPY, IWM, VEA, VWO, VNQ, DBC, IEF, TLT \n",
    "\n",
    "offensive_universe = US_Equities + Foreign_Equities + Alternative_Assets + US_Bonds\n",
    "\n",
    "cash_universe = ['BIL', 'IEF']\n",
    "canary_asset = ['TIP']\n",
    "\n",
    "# #### leveraged assets\n",
    "# offensive_universe = ['SSO', 'UWM', 'VEA', 'VWO', 'DBC', 'URE', 'UBT', 'UST']\n",
    "\n",
    "# cash_universe = ['BIL', 'UST']\n",
    "# canary_asset = ['TIP']\n",
    "\n",
    "\n",
    "whole_universe = offensive_universe + cash_universe + canary_asset\n",
    "whole_universe = list(set(whole_universe))"
   ]
  },
  {
   "cell_type": "code",
   "execution_count": null,
   "metadata": {},
   "outputs": [],
   "source": [
    "prices_df = yf.download(tickers=whole_universe,\n",
    "                        end=datetime.now())\n"
   ]
  },
  {
   "cell_type": "code",
   "execution_count": null,
   "metadata": {},
   "outputs": [],
   "source": [
    "prices_df = prices_df['Adj Close']"
   ]
  },
  {
   "cell_type": "code",
   "execution_count": null,
   "metadata": {},
   "outputs": [],
   "source": [
    "fig = px.line(prices_df.dropna().melt(ignore_index=False), y='value', color='variable', log_y=True) \n",
    "fig.show()\n",
    "# py.plot(fig, filename='HAA_universe_price_history')"
   ]
  },
  {
   "cell_type": "code",
   "execution_count": null,
   "metadata": {},
   "outputs": [],
   "source": [
    "from numba import njit\n",
    "@njit\n",
    "def ecdf_dd_curve_numba(cpnl, ret):\n",
    "    N = len(cpnl)\n",
    "    i=1\n",
    "    hw = cpnl[1]\n",
    "    dd = np.ones(N)\n",
    "    ecdf = np.zeros(N)\n",
    "    while i < N:\n",
    "        if hw > cpnl[i]:\n",
    "            dd[i] = dd[i-1] * (1 + ret[i])\n",
    "        else:\n",
    "            dd[i] = 1\n",
    "            hw = cpnl[i]\n",
    "\n",
    "        ecdf[i] = np.sum(dd[i] < dd[:i]) / i\n",
    "\n",
    "        i+=1\n",
    "    return dd - 1, ecdf"
   ]
  },
  {
   "cell_type": "code",
   "execution_count": null,
   "metadata": {},
   "outputs": [],
   "source": [
    "asset = 'SPY.AX'\n",
    "\n",
    "def aema(df, asset, s_win = 250, f_win = 50):\n",
    "    sma_slow = df[asset].ewm(span=s_win).mean()\n",
    "    sma_fast = df[asset].ewm(span=f_win).mean()\n",
    "    df['ama'] = (sma_slow * (1 - df.ecdf)) + (sma_fast * df.ecdf)\n",
    "    return df\n",
    "\n",
    "def ama_performance(df, asset, f_win, verbose=False):\n",
    "    df['ret'] = df.asset_ret.shift(-1).fillna(0)\n",
    "    mask = df[asset].ewm(f_win).mean() <= df.ama\n",
    "    # mask = df[asset] <= df.ama\n",
    "    # mask = df[asset] <= df.ama\n",
    "    df.loc[mask, 'ret'] = 0\n",
    "    df['cpnl'] = (1 + df.ret).cumprod()\n",
    "    df, pm = performance_stats(df, N=252, verbose=verbose)\n",
    "    return df, pm\n",
    "\n",
    "pms = []\n",
    "\n",
    "for f, p in product(np.arange(0, 55, 5)[1:], np.arange(0, 55, 5)[1:]):\n",
    "    try:\n",
    "        asset_ret_df = prices_df[[asset]].dropna().copy()\n",
    "        asset_ret_df[asset] /= asset_ret_df[asset].values[0]\n",
    "        asset_ret_df['asset_ret'] = asset_ret_df[asset].pct_change().fillna(0)\n",
    "\n",
    "        _ = ecdf_dd_curve_numba(asset_ret_df[asset].values, asset_ret_df.asset_ret.values)\n",
    "        asset_ret_df['dd'] = _[0]\n",
    "        asset_ret_df['ecdf'] = _[1]\n",
    "        asset_ret_df = aema(asset_ret_df, asset, 200, f)\n",
    "        df, pm = ama_performance(asset_ret_df, asset, p, verbose=False)\n",
    "        pm['price'] = p\n",
    "        pm['fast'] = f\n",
    "        pms.append(pm)\n",
    "    except Exception as e:\n",
    "        print(repr(e))\n",
    "        # print('failed')\n",
    "pms = pd.concat(pms).reset_index(drop=True)\n",
    "\n",
    "print(pms.describe())\n",
    "print(pms.iloc[pms.sr.idxmax()])\n",
    "print(pms.iloc[pms.cagr.idxmax()])\n",
    "print(pms.iloc[pms.max_dd.idxmin()])\n",
    "\n",
    "best_pm = pms.iloc[pms.sr.idxmax()]\n",
    "\n",
    "asset_ret_df = prices_df[[asset]].dropna().copy()\n",
    "asset_ret_df[asset] /= asset_ret_df[asset].values[0]\n",
    "asset_ret_df['asset_ret'] = asset_ret_df[asset].pct_change().fillna(0)\n",
    "\n",
    "_ = ecdf_dd_curve_numba(asset_ret_df[asset].values, asset_ret_df.asset_ret.values)\n",
    "asset_ret_df['dd'] = _[0]\n",
    "asset_ret_df['ecdf'] = _[1]\n",
    "asset_ret_df = aema(asset_ret_df, asset, 200, best_pm.fast)\n",
    "asset_ret_df, pm = ama_performance(asset_ret_df, asset, best_pm.price, verbose=True)\n",
    "\n",
    "\n",
    "plot_df = asset_ret_df.melt(ignore_index=False, value_vars=[asset, 'ama', 'cpnl', 'dd', 'ecdf'])\n",
    "plot_df['facet'] = ''\n",
    "plot_df.loc[plot_df.variable.isin([asset, 'ama']), 'facet'] = 'price'\n",
    "plot_df.loc[plot_df.variable.isin(['cpnl']), 'facet'] = 'cpnl'\n",
    "plot_df.loc[plot_df.variable.isin(['dd', 'ecdf']), 'facet'] = 'signal'\n",
    "plot_df.loc[plot_df.variable== 'dd', 'value'] *= 10\n",
    "\n",
    "fig = px.line(plot_df, y='value', color='variable', facet_row='facet', log_y=True)#.show()\n",
    "fig['layout']['yaxis']['type'] = None\n",
    "fig.update_yaxes(matches=None)\n",
    "fig.update_layout(height = 1000)"
   ]
  },
  {
   "cell_type": "code",
   "execution_count": null,
   "metadata": {},
   "outputs": [],
   "source": [
    "asset = 'TLT'\n",
    "\n",
    "def aema(df, asset, s_win = 250, f_win = 50):\n",
    "    sma_slow = df[asset].ewm(span=s_win).mean()\n",
    "    sma_fast = df[asset].ewm(span=f_win).mean()\n",
    "    df['ama'] = (sma_slow * (1 - df.ecdf)) + (sma_fast * df.ecdf)\n",
    "    return df\n",
    "\n",
    "def ama_performance(df, asset, f_win, verbose=False):\n",
    "    df['ret'] = df.asset_ret.shift(-1).fillna(0)\n",
    "    df.loc[df[asset].ewm(f_win).mean() <= df.ama, 'ret'] = 0\n",
    "    df['cpnl'] = (1 + df.ret).cumprod()\n",
    "    df, pm = performance_stats(df, N=252, verbose=verbose)\n",
    "    return df, pm\n",
    "\n",
    "pms = []\n",
    "\n",
    "for f, p in product(np.arange(0, 55, 5)[1:], np.arange(0, 55, 5)[1:]):\n",
    "    try:\n",
    "        asset_ret_df = prices_df[[asset]].dropna().copy()\n",
    "        asset_ret_df[asset] /= asset_ret_df[asset].values[0]\n",
    "        asset_ret_df['asset_ret'] = asset_ret_df[asset].pct_change().fillna(0)\n",
    "\n",
    "        _ = ecdf_dd_curve_numba(asset_ret_df[asset].values, asset_ret_df.asset_ret.values)\n",
    "        asset_ret_df['dd'] = _[0]\n",
    "        asset_ret_df['ecdf'] = _[1]\n",
    "        asset_ret_df = aema(asset_ret_df, asset, 200, f)\n",
    "        df, pm = ama_performance(asset_ret_df, asset, p, verbose=False)\n",
    "        pm['price'] = p\n",
    "        pm['fast'] = f\n",
    "        pms.append(pm)\n",
    "    except Exception as e:\n",
    "        print(repr(e))\n",
    "        # print('failed')\n",
    "pms = pd.concat(pms).reset_index(drop=True)\n",
    "\n",
    "print(pms.describe())\n",
    "print(pms.iloc[pms.sr.idxmax()])\n",
    "print(pms.iloc[pms.cagr.idxmax()])\n",
    "print(pms.iloc[pms.max_dd.idxmin()])\n",
    "\n",
    "best_pm = pms.iloc[pms.sr.idxmax()]\n",
    "\n",
    "asset_ret_df = prices_df[[asset]].dropna().copy()\n",
    "asset_ret_df[asset] /= asset_ret_df[asset].values[0]\n",
    "asset_ret_df['asset_ret'] = asset_ret_df[asset].pct_change().fillna(0)\n",
    "\n",
    "_ = ecdf_dd_curve_numba(asset_ret_df[asset].values, asset_ret_df.asset_ret.values)\n",
    "asset_ret_df['dd'] = _[0]\n",
    "asset_ret_df['ecdf'] = _[1]\n",
    "asset_ret_df = aema(asset_ret_df, asset, 200, best_pm.fast)\n",
    "asset_ret_df, pm = ama_performance(asset_ret_df, asset, best_pm.price, verbose=True)\n",
    "\n",
    "\n",
    "plot_df = asset_ret_df.melt(ignore_index=False, value_vars=[asset, 'ama', 'cpnl', 'dd', 'ecdf'])\n",
    "plot_df['facet'] = ''\n",
    "plot_df.loc[plot_df.variable.isin([asset, sma_fast, sma_slow, 'ama']), 'facet'] = 'price'\n",
    "plot_df.loc[plot_df.variable.isin(['cpnl']), 'facet'] = 'cpnl'\n",
    "plot_df.loc[plot_df.variable.isin(['dd', 'ecdf']), 'facet'] = 'signal'\n",
    "plot_df.loc[plot_df.variable== 'dd', 'value'] *= 10\n",
    "\n",
    "fig = px.line(plot_df, y='value', color='variable', facet_row='facet', log_y=True)#.show()\n",
    "fig['layout']['yaxis']['type'] = None\n",
    "fig.update_yaxes(matches=None)\n",
    "fig.update_layout(height = 1000)"
   ]
  },
  {
   "cell_type": "code",
   "execution_count": null,
   "metadata": {},
   "outputs": [],
   "source": [
    "asset = 'SPY.AX'\n",
    "\n",
    "def aema(df, asset, f_win = 50, p_win=10):\n",
    "    sma_slow = df[asset].ewm(span=200).mean()\n",
    "    sma_fast = df[asset].ewm(span=f_win).mean()\n",
    "    df['ama'] = (sma_slow * (1 - df.ecdf)) + (sma_fast * df.ecdf)\n",
    "\n",
    "    sma_slow = df[asset].ewm(span=f_win).mean()\n",
    "    sma_fast = df[asset].ewm(span=p_win).mean()\n",
    "    df['pama'] = (sma_slow * (1 - df.ecdf)) + (sma_fast * df.ecdf)\n",
    "    return df.pama <= df.ama\n",
    "\n",
    "def ama_performance(df, mask, verbose=False):\n",
    "    df['ret'] = df.asset_ret.shift(-1).fillna(0)\n",
    "    df.loc[mask, 'ret'] = 0\n",
    "    df['cpnl'] = (1 + df.ret).cumprod()\n",
    "    df, pm = performance_stats(df, N=252, verbose=verbose)\n",
    "    return df, pm\n",
    "\n",
    "pms = []\n",
    "\n",
    "for f, p in product(np.arange(0, 55, 5)[1:], np.arange(0, 55, 5)[1:]):\n",
    "    try:\n",
    "        asset_ret_df = prices_df[[asset]].dropna().copy()\n",
    "        asset_ret_df[asset] /= asset_ret_df[asset].values[0]\n",
    "        asset_ret_df['asset_ret'] = asset_ret_df[asset].pct_change().fillna(0)\n",
    "\n",
    "        _ = ecdf_dd_curve_numba(asset_ret_df[asset].values, asset_ret_df.asset_ret.values)\n",
    "        asset_ret_df['dd'] = _[0]\n",
    "        asset_ret_df['ecdf'] = _[1]\n",
    "        mask = aema(asset_ret_df, asset, f, p)\n",
    "        df, pm = ama_performance(asset_ret_df, mask, verbose=False)\n",
    "        pm['price'] = p\n",
    "        pm['fast'] = f\n",
    "        pms.append(pm)\n",
    "    except Exception as e:\n",
    "        print(repr(e))\n",
    "        # print('failed')\n",
    "pms = pd.concat(pms).reset_index(drop=True)\n",
    "\n",
    "print(pms.describe())\n",
    "print(pms.iloc[pms.sr.idxmax()])\n",
    "print(pms.iloc[pms.cagr.idxmax()])\n",
    "print(pms.iloc[pms.max_dd.idxmin()])\n",
    "\n",
    "best_pm = pms.iloc[pms.sr.idxmax()]\n",
    "\n",
    "asset_ret_df = prices_df[[asset]].dropna().copy()\n",
    "asset_ret_df[asset] /= asset_ret_df[asset].values[0]\n",
    "asset_ret_df['asset_ret'] = asset_ret_df[asset].pct_change().fillna(0)\n",
    "\n",
    "_ = ecdf_dd_curve_numba(asset_ret_df[asset].values, asset_ret_df.asset_ret.values)\n",
    "asset_ret_df['dd'] = _[0]\n",
    "asset_ret_df['ecdf'] = _[1]\n",
    "mask = aema(asset_ret_df, asset, best_pm.fast, best_pm.price)\n",
    "asset_ret_df, pm = ama_performance(asset_ret_df, mask, verbose=True)\n",
    "\n",
    "\n",
    "plot_df = asset_ret_df.melt(ignore_index=False, value_vars=[asset, 'ama', 'pama', 'cpnl', 'dd', 'ecdf'])\n",
    "plot_df['facet'] = ''\n",
    "plot_df.loc[plot_df.variable.isin([asset, 'ama', 'pama']), 'facet'] = 'price'\n",
    "plot_df.loc[plot_df.variable.isin(['cpnl']), 'facet'] = 'cpnl'\n",
    "plot_df.loc[plot_df.variable.isin(['dd', 'ecdf']), 'facet'] = 'signal'\n",
    "plot_df.loc[plot_df.variable== 'dd', 'value'] *= 10\n",
    "\n",
    "fig = px.line(plot_df, y='value', color='variable', facet_row='facet', log_y=True)#.show()\n",
    "fig['layout']['yaxis']['type'] = None\n",
    "fig.update_yaxes(matches=None)\n",
    "fig.update_layout(height = 1000)"
   ]
  },
  {
   "cell_type": "code",
   "execution_count": null,
   "metadata": {},
   "outputs": [],
   "source": [
    "plot_df = spy_ret_df.melt(ignore_index=False, value_vars=['SPY', sma_fast, sma_slow, 'ama', 'cpnl', 'dd', 'ecdf'])\n",
    "plot_df['facet'] = ''\n",
    "plot_df.loc[plot_df.variable.isin(['SPY', sma_fast, sma_slow, 'ama']), 'facet'] = 'price'\n",
    "plot_df.loc[plot_df.variable.isin(['cpnl']), 'facet'] = 'cpnl'\n",
    "plot_df.loc[plot_df.variable.isin(['dd', 'ecdf']), 'facet'] = 'signal'\n",
    "plot_df.loc[plot_df.variable== 'dd', 'value'] *= 10\n",
    "\n",
    "fig = px.line(plot_df, y='value', color='variable', facet_row='facet', log_y=True)#.show()\n",
    "fig['layout']['yaxis']['type'] = None\n",
    "fig.update_yaxes(matches=None)\n",
    "fig.update_layout(height = 1000)"
   ]
  },
  {
   "cell_type": "code",
   "execution_count": null,
   "metadata": {},
   "outputs": [],
   "source": [
    "spy_ret_df.tail(12)\n",
    "\n",
    "\n",
    "# SPY\tspy_ret\tdd\tecdf\tsma200\tsma20\tama\tlong\tret\tcpnl\tama_l1\n",
    "# Date\t\t\t\t\t\t\t\t\t\t\t\n",
    "# 2023-06-22\t436.510010\t0.003610\t-0.017580\t0.565661\t395.048899\t427.365677\t413.329225\tTrue\t-0.007560\t23672.445617\t410.744344\n",
    "# 2023-06-23\t433.209991\t-0.007560\t-0.021594\t0.588450\t395.292541\t428.547746\t414.861583\tTrue\t-0.004086\t23575.725852\t411.827976\n",
    "# 2023-06-26\t431.440002\t-0.004086\t-0.010867\t0.596473\t395.492798\t429.463974\t415.755684\tTrue\t0.010963\t23834.193870\t412.900954\n",
    "# 2023-06-27\t436.170013\t0.010963\t-0.010368\t0.568312\t395.703913\t430.349197\t415.393259\tTrue\t0.000504\t23846.215677\t413.329225\n",
    "# 2023-06-28\t436.390015\t0.000504\t-0.006468\t0.566410\t395.885528\t431.237450\t415.909204\tTrue\t0.003941\t23940.202228\t414.861583\n",
    "# 2023-06-29\t438.109985\t0.003941\t0.000000\t0.555759\t396.054244\t432.327768\t416.213570\tTrue\t0.011801\t24222.713860\t415.755684\n",
    "# 2023-06-30\t443.279999\t0.011801\t0.000000\t0.522392\t396.336725\t433.478822\t415.739458\tTrue\t0.001151\t24250.582974\t415.393259\n",
    "# 2023-07-03\t443.790009\t0.001151\t-0.001487\t0.517755\t396.614376\t434.351506\t416.152947\tTrue\t-0.001487\t24214.517553\t415.909204\n",
    "# 2023-07-05\t443.130005\t-0.001487\t-0.009306\t0.523561\t396.910767\t435.232037\t416.974285\tTrue\t-0.007831\t24024.901854\t416.213570\n",
    "# 2023-07-06\t439.660004\t-0.007831\t-0.011807\t0.546594\t397.204450\t435.892741\t418.351222\tTrue\t-0.002525\t23964.245842\t415.739458\n",
    "# 2023-07-07\t438.549988\t-0.002525\t-0.009306\t0.552917\t397.477813\t436.571672\t419.093457\tTrue\t0.002531\t24024.901854\t416.152947\n",
    "# 2023-07-10\t439.660004\t0.002531\t-0.009306\t0.546451\t397.778757\t437.177579\t419.308280\tTrue\t0.000000\t24024.901854\t416.974285"
   ]
  },
  {
   "cell_type": "code",
   "execution_count": null,
   "metadata": {},
   "outputs": [],
   "source": [
    "px.line(spy_ret_df, y='cpnl', log_y=True)"
   ]
  },
  {
   "cell_type": "code",
   "execution_count": null,
   "metadata": {},
   "outputs": [],
   "source": [
    "class MOMENTUM():\n",
    "    def __init__(self) -> None:\n",
    "        pass\n",
    "\n",
    "    def fit(self, X, y=None):\n",
    "        return X\n",
    "    \n",
    "    def transform(self, X, y=None):\n",
    "        self.calc_monthly_close(X)\n",
    "        ret1m = self.get_return(1)\n",
    "        ret3m = self.get_return(3)\n",
    "        ret6m = self.get_return(6)\n",
    "        ret12m = self.get_return(12)\n",
    "        mom = (ret1m + ret3m + ret6m + ret12m) / 4\n",
    "        return mom.shift(1)\n",
    "    \n",
    "    def calc_monthly_close(self, X):\n",
    "        # last_month_date = X.reset_index().groupby(pd.Grouper(key = 'Date', freq='M')).Date.apply(lambda x: x[:-1])\n",
    "        # self.monthly_close = X.loc[(last_month_date)].resample('M').last()\n",
    "        self.monthly_close = X.resample('M').last()\n",
    "    \n",
    "    def get_return(self, months):\n",
    "        return self.monthly_close.pct_change(periods = months)\n",
    "\n",
    "\n",
    "class MONTHLY_RETURNS():\n",
    "    def __init__(self) -> None:\n",
    "        pass\n",
    "\n",
    "    def fit(self, X, y=None):\n",
    "        return X\n",
    "    \n",
    "    def calc_monthly_close(self, X):\n",
    "        self.monthly_close = X.resample('M').last()\n",
    "        # self.monthly_close = X.resample('M').first().shift(-1)\n",
    "\n",
    "    def transform(self, X):\n",
    "        self.calc_monthly_close(X)\n",
    "        return self.get_return(1)\n",
    "\n",
    "    def get_return(self, months):\n",
    "        return self.monthly_close.pct_change()#periods = months)\n",
    "    \n",
    "\n",
    "class MONTHLY_PICKS():\n",
    "    def __init__(self, offensive_universe, cash_universe, canary_asset) -> None:\n",
    "        self.offensive_universe = offensive_universe\n",
    "        self.cash_universe = cash_universe\n",
    "        self.canary_asset = canary_asset\n",
    "        self.regime = None\n",
    "        \n",
    "    def get_picks(self, X):\n",
    "        self.get_regime(X)\n",
    "        if self.regime:\n",
    "            assets = self.get_offensive_assets(X)\n",
    "        else:\n",
    "            assets = self.get_defensive_assets(X)\n",
    "        return assets, self.regime\n",
    "    \n",
    "    def get_regime(self, X):\n",
    "        if X[canary_asset].values[0] > 0:\n",
    "            self.regime = True\n",
    "        else:\n",
    "            self.regime = False\n",
    "\n",
    "    def get_defensive_assets(self, X):\n",
    "        asset = X[self.cash_universe].melt()\n",
    "        # asset = asset[asset.value > 0]\n",
    "        asset = asset.sort_values('value').tail(1).variable.tolist()\n",
    "        return asset\n",
    "\n",
    "    def get_offensive_assets(self, X):\n",
    "        assets = X[self.offensive_universe].melt()\n",
    "        assets = assets[assets.value > 0]\n",
    "        assets = assets.sort_values('value').tail(4).variable.tolist()\n",
    "        Cash_fraction = 4 - len(assets)\n",
    "        if Cash_fraction > 0:\n",
    "            defensive_asset = self.get_defensive_assets(X)\n",
    "            assets = assets + defensive_asset * Cash_fraction\n",
    "        return assets\n",
    "    \n",
    "\n",
    "class POSITION_SIZES():\n",
    "    def __init__(self) -> None:\n",
    "        pass\n",
    "\n",
    "    def get_lots(self, capital, assets, prices):\n",
    "        #### assets is a dict of aggressive\n",
    "        N = len(assets)\n",
    "        asset_capital = capital / N\n",
    "        return [int(asset_capital / prices[asset].values[0]) for asset in assets]\n",
    "\n",
    "    def get_lots_date(self, capital, assets, prices, date):\n",
    "        return self.get_lots(capital, assets, prices.loc[date])"
   ]
  },
  {
   "cell_type": "code",
   "execution_count": null,
   "metadata": {},
   "outputs": [],
   "source": [
    "prices_df.resample('M').first().pct_change()"
   ]
  },
  {
   "cell_type": "code",
   "execution_count": null,
   "metadata": {},
   "outputs": [],
   "source": [
    "whole_universe"
   ]
  },
  {
   "cell_type": "code",
   "execution_count": null,
   "metadata": {},
   "outputs": [],
   "source": [
    "mom = MOMENTUM()\n",
    "mom_df = pd.concat([mom.transform(prices_df[sym]).to_frame() for sym in whole_universe], axis=1)\n",
    "mom_df.dropna().to_csv('haa_momentum.csv')"
   ]
  },
  {
   "cell_type": "code",
   "execution_count": null,
   "metadata": {},
   "outputs": [],
   "source": [
    "#### this matches the table at the end of\n",
    "# https://indexswingtrader.blogspot.com/2023/02/introducing-hybrid-asset-allocation-haa.html\n",
    "\n",
    "mom_df.tail(12)[['SPY', 'IWM', 'VEA', 'VWO', 'DBC', 'VNQ', 'TLT', 'IEF', 'BIL', 'TIP']].round(4) * 100"
   ]
  },
  {
   "cell_type": "code",
   "execution_count": null,
   "metadata": {},
   "outputs": [],
   "source": [
    "\n",
    "monthly_ret = MONTHLY_RETURNS()\n",
    "ret_df = pd.concat([monthly_ret.transform(prices_df[sym]).to_frame() for sym in whole_universe], axis=1)\n",
    "\n",
    "position_sizes = POSITION_SIZES()"
   ]
  },
  {
   "cell_type": "code",
   "execution_count": null,
   "metadata": {},
   "outputs": [],
   "source": [
    "px.line(mom_df.melt(ignore_index=False), y='value', color='variable')"
   ]
  },
  {
   "cell_type": "code",
   "execution_count": null,
   "metadata": {},
   "outputs": [],
   "source": [
    "prices_df"
   ]
  },
  {
   "cell_type": "code",
   "execution_count": null,
   "metadata": {},
   "outputs": [],
   "source": [
    "monthly_picks = MONTHLY_PICKS(offensive_universe, cash_universe, canary_asset)\n",
    "monthly_assets = mom_df.dropna().groupby('Date').apply(monthly_picks.get_picks)\n",
    "monthly_assets.tail(12)"
   ]
  },
  {
   "cell_type": "code",
   "execution_count": null,
   "metadata": {},
   "outputs": [],
   "source": [
    "date = '2023-05-31'\n",
    "capital = 20*10e3\n",
    "\n",
    "position_sizes.get_lots(capital, monthly_assets.loc[date][0], prices_df.tail(1))#, pd.to_datetime(date))"
   ]
  },
  {
   "cell_type": "code",
   "execution_count": null,
   "metadata": {},
   "outputs": [],
   "source": [
    "daily_ret_df = prices_df.pct_change().dropna().shift(-1)\n",
    "daily_ret_df['Date'] = daily_ret_df.index.date + pd.tseries.offsets.MonthEnd(0)\n",
    "daily_ret_df"
   ]
  },
  {
   "cell_type": "code",
   "execution_count": null,
   "metadata": {},
   "outputs": [],
   "source": [
    "prices_df"
   ]
  },
  {
   "cell_type": "code",
   "execution_count": null,
   "metadata": {},
   "outputs": [],
   "source": [
    "months_ret = []\n",
    "months_regime = []\n",
    "months_ret_daily = []\n",
    "\n",
    "for Date in monthly_assets.index.unique():\n",
    "    assets = monthly_assets.loc[Date][0] #.tolist()\n",
    "    months_ret.append([Date, ret_df.loc[Date, assets].mean()])\n",
    "    months_ret_daily.append(daily_ret_df.loc[daily_ret_df.Date == Date, assets].mean(axis=1))\n",
    "    months_regime.append([Date, monthly_assets.loc[Date][1]])\n",
    "\n",
    "strat_returns = pd.DataFrame(months_ret, columns=['Date', 'ret']).sort_values('Date').set_index('Date')\n",
    "strat_regime = pd.DataFrame(months_regime, columns=['Date', 'offensive_regime']).sort_values('Date').set_index('Date')\n",
    "strat_returns = pd.concat([strat_regime, strat_returns],axis=1)\n",
    "\n",
    "strat_returns['regime_group'] = strat_returns.offensive_regime.diff().bfill().cumsum()\n",
    "strat_returns['cpnl'] = (strat_returns.ret + 1).cumprod()\n",
    "\n",
    "strat_returns['spy'] = prices_df.SPY.resample('M').last()\n",
    "strat_returns['spy'] /= strat_returns.spy.values[0]\n",
    "strat_returns['spy_ret'] = strat_returns.spy.pct_change().fillna(0)\n",
    "strat_returns.tail(12)"
   ]
  },
  {
   "cell_type": "code",
   "execution_count": null,
   "metadata": {},
   "outputs": [],
   "source": [
    "prices_df.BIL.resample('M').last().pct_change().tail(12)"
   ]
  },
  {
   "cell_type": "code",
   "execution_count": null,
   "metadata": {},
   "outputs": [],
   "source": [
    "(91.446999 - 91.027702) / 91.027702"
   ]
  },
  {
   "cell_type": "code",
   "execution_count": null,
   "metadata": {},
   "outputs": [],
   "source": [
    "prices_df.BIL.tail(30)"
   ]
  },
  {
   "cell_type": "code",
   "execution_count": null,
   "metadata": {},
   "outputs": [],
   "source": [
    "ret_df.tail(12)[['BIL']]"
   ]
  },
  {
   "cell_type": "code",
   "execution_count": null,
   "metadata": {},
   "outputs": [],
   "source": [
    "Date in monthly_assets.index.unique()"
   ]
  },
  {
   "cell_type": "code",
   "execution_count": null,
   "metadata": {},
   "outputs": [],
   "source": []
  },
  {
   "cell_type": "code",
   "execution_count": null,
   "metadata": {},
   "outputs": [],
   "source": [
    "months_ret_daily = pd.concat(months_ret_daily).dropna()\n",
    "months_ret_daily = months_ret_daily.to_frame('ret')\n",
    "months_ret_daily['cpnl'] = (months_ret_daily.ret + 1).cumprod()\n",
    "months_ret_daily, pm_daily = performance_stats(months_ret_daily, N=252)"
   ]
  },
  {
   "cell_type": "code",
   "execution_count": null,
   "metadata": {},
   "outputs": [],
   "source": [
    "months_ret_daily"
   ]
  },
  {
   "cell_type": "code",
   "execution_count": null,
   "metadata": {},
   "outputs": [],
   "source": [
    "px.bar(strat_returns, y='ret', color='offensive_regime').show()\n",
    "fig = px.line(strat_returns, y='cpnl', color='offensive_regime', line_group='regime_group', log_y=True)#.show()\n",
    "benchmark_trace = px.line(strat_returns, y='spy').data[0]\n",
    "benchmark_trace['line']['color'] = 'black'\n",
    "benchmark_trace['line']['dash'] = 'dash'\n",
    "fig.add_trace(benchmark_trace)\n",
    "fig.show()\n",
    "# py.plot(fig, filename='HAA_vs_SPY')\n",
    "\n",
    "px.bar(strat_returns.ret.rolling(12).std() * np.sqrt(12)).show()\n",
    "px.bar(annual_returns(strat_returns, 'ret'), y='ret').show()\n",
    "strat_returns, pm = performance_stats(strat_returns, N=12)\n",
    "pm['stratergy'] = 'HAA'\n",
    "\n",
    "px.line(strat_returns, y='dd').show()\n",
    "\n",
    "_, pm_spy = performance_stats(strat_returns.drop(['cpnl', 'ret'], axis=1).rename({'spy': 'cpnl', 'spy_ret': 'ret'}, axis=1), N=12)\n",
    "\n",
    "pm_spy['stratergy'] = 'SPY'\n",
    "\n",
    "pd.concat([pm, pm_spy]).set_index('stratergy').to_csv('HAA_pm_usd.csv')\n",
    "\n"
   ]
  },
  {
   "cell_type": "code",
   "execution_count": null,
   "metadata": {},
   "outputs": [],
   "source": [
    "strat_returns[strat_returns.index.year.isin([2020,2021,2022])].copy()"
   ]
  },
  {
   "cell_type": "code",
   "execution_count": null,
   "metadata": {},
   "outputs": [],
   "source": [
    "_, pm_3yr = performance_stats(strat_returns[strat_returns.index.year.isin([2020,2021,2022])].copy(), N=12)"
   ]
  },
  {
   "cell_type": "code",
   "execution_count": null,
   "metadata": {},
   "outputs": [],
   "source": [
    "strat_returns[strat_returns.index.year.isin([2022])]"
   ]
  },
  {
   "cell_type": "code",
   "execution_count": null,
   "metadata": {},
   "outputs": [],
   "source": [
    "_, pm_1yr = performance_stats(strat_returns[strat_returns.index.year.isin([2022])].copy(), N=12)"
   ]
  },
  {
   "cell_type": "code",
   "execution_count": null,
   "metadata": {},
   "outputs": [],
   "source": [
    "usd_aud_df = pd.read_csv('../trading_data/AUD_USD Historical Data.csv').set_index('Date')\n",
    "usd_aud_df.index = pd.to_datetime(usd_aud_df.index, dayfirst=True)"
   ]
  },
  {
   "cell_type": "code",
   "execution_count": null,
   "metadata": {},
   "outputs": [],
   "source": [
    "strat_returns_aud = strat_returns.copy()\n",
    "strat_returns_aud = pd.merge(strat_returns_aud, left_index = True, right = usd_aud_df[['Price']], right_index=True, how='left')\n",
    "# strat_returns_aud[['ret', 'cpnl', 'spy']] = \n",
    "strat_returns_aud['ret'] /= strat_returns_aud.Price.ffill()\n",
    "strat_returns_aud['cpnl'] = (strat_returns_aud.ret + 1).cumprod()\n",
    "# strat_returns_aud['cpnl'] /= strat_returns_aud.Price.ffill()\n",
    "strat_returns_aud['spy'] /= strat_returns_aud.Price.ffill()\n",
    "# strat_returns_aud"
   ]
  },
  {
   "cell_type": "code",
   "execution_count": null,
   "metadata": {},
   "outputs": [],
   "source": [
    "px.bar(strat_returns_aud, y='ret', color='offensive_regime').show()\n",
    "fig = px.line(strat_returns_aud, y='cpnl', color='offensive_regime', line_group='regime_group', log_y=True)#.show()\n",
    "benchmark_trace = px.line(strat_returns_aud, y='spy').data[0]\n",
    "benchmark_trace['line']['color'] = 'black'\n",
    "benchmark_trace['line']['dash'] = 'dash'\n",
    "fig.add_trace(benchmark_trace)\n",
    "fig.show()\n",
    "strat_returns_aud, *_ = performance_stats(strat_returns_aud, N=12)\n",
    "px.line(strat_returns_aud, y='dd').show()\n",
    "\n"
   ]
  },
  {
   "cell_type": "code",
   "execution_count": null,
   "metadata": {},
   "outputs": [],
   "source": [
    "py.plot(fig, filename='HAA_equity')"
   ]
  },
  {
   "cell_type": "code",
   "execution_count": null,
   "metadata": {},
   "outputs": [],
   "source": [
    "\n",
    "px.bar(strat_returns_aud.ret.rolling(12).std() * np.sqrt(12)).show()\n",
    "px.bar(annual_returns(strat_returns_aud, 'ret'), y='ret').show()\n",
    "cagr(strat_returns_aud.cpnl.dropna())\n",
    "sr(strat_returns_aud.ret.dropna(), N=12)"
   ]
  },
  {
   "cell_type": "code",
   "execution_count": null,
   "metadata": {},
   "outputs": [],
   "source": [
    "# CAGR: 0.10724184105915247\n",
    "# SR: 1.1479426565313477"
   ]
  },
  {
   "cell_type": "code",
   "execution_count": null,
   "metadata": {},
   "outputs": [],
   "source": [
    "cagr(strat_returns_aud.spy.dropna())\n",
    "sr(strat_returns_aud.spy.pct_change().dropna(), N=12)\n",
    "\n",
    "# CAGR: 0.09743790454842394\n",
    "# SR: 1.0914094303126585\n",
    "\n",
    "# CAGR: 0.09680215314678176\n",
    "# SR: 1.140642818036425"
   ]
  },
  {
   "cell_type": "code",
   "execution_count": null,
   "metadata": {},
   "outputs": [],
   "source": [
    "vol_df = np.log(prices_df)#.apply(lambda x: np.diff(np.log(x)))\n",
    "vol_df = vol_df.diff().dropna()\n",
    "vol_df = (vol_df.rolling(252).std() * np.sqrt(252)).mean(axis=1).to_frame('vol')\\\n",
    "       + (vol_df.rolling(189).std() * np.sqrt(189)).mean(axis=1).to_frame('vol')\\\n",
    "       + (vol_df.rolling(126).std() * np.sqrt(126)).mean(axis=1).to_frame('vol')\\\n",
    "       + (vol_df.rolling(63).std() * np.sqrt(63)).mean(axis=1).to_frame('vol')\n",
    "vol_df /= 4\n",
    "px.bar(vol_df.resample('M').mean()).show()\n",
    "vol_df = vol_df.resample('M').mean().shift(1)\n",
    "                    \n",
    "#                     .rolling(252).std() * np.sqrt(252)).mean(axis=1).values\n",
    "# prices_df#.groupby()"
   ]
  },
  {
   "cell_type": "code",
   "execution_count": null,
   "metadata": {},
   "outputs": [],
   "source": [
    "px.bar(strat_returns.ret.rolling(12).std() * np.sqrt(12))"
   ]
  },
  {
   "cell_type": "code",
   "execution_count": null,
   "metadata": {},
   "outputs": [],
   "source": [
    "max_leverage = 1\n",
    "vol_window_l = 12\n",
    "vol_window_mm = 9\n",
    "vol_window_m = 6\n",
    "vol_window_s = 3\n",
    "\n",
    "vol_target = 0.1 #25\n",
    "\n",
    "strat_returns['rolling_vol'] = ((strat_returns.ret.rolling(vol_window_l).std() * np.sqrt(12)).shift(1)\\\n",
    "                                 + (strat_returns.ret.rolling(vol_window_mm).std() * np.sqrt(12)).shift(1)\\\n",
    "                                 + (strat_returns.ret.rolling(vol_window_m).std() * np.sqrt(12)).shift(1)\\\n",
    "                                 + (strat_returns.ret.rolling(vol_window_s).std() * np.sqrt(12)).shift(1)) / 4\n",
    "strat_returns['leverage'] = (vol_target / strat_returns.rolling_vol).dropna()\n",
    "# strat_returns['leverage'] = vol_target / vol_df\n",
    "mask = strat_returns.leverage > 1\n",
    "strat_returns.loc[mask, 'leverage'] = 1\n",
    "strat_returns.loc[~strat_returns.offensive_regime, 'leverage'] = 1\n",
    "strat_returns['ret_l'] = strat_returns.ret * strat_returns.leverage\n",
    "strat_returns['cpnl_l'] = (strat_returns.ret_l + 1).cumprod()\n",
    "px.bar(strat_returns, y='ret_l', color='offensive_regime').show()\n",
    "fig = px.line(strat_returns, y='cpnl_l', color='offensive_regime', line_group='regime_group', log_y=True)#.show()\n",
    "benchmark_trace = px.line(strat_returns, y='spy').data[0]\n",
    "benchmark_trace['line']['color'] = 'black'\n",
    "benchmark_trace['line']['dash'] = 'dash'\n",
    "fig.add_trace(benchmark_trace)\n",
    "fig.show()\n",
    "px.bar(strat_returns, y='leverage', color='offensive_regime').show()\n",
    "px.bar(strat_returns.ret_l.rolling(12).std() * np.sqrt(12)).show()\n",
    "px.bar(annual_returns(strat_returns, 'ret_l'), y='ret_l').show()\n",
    "cagr(strat_returns.cpnl_l.dropna())\n",
    "sr(strat_returns.ret_l.dropna(), N=12)"
   ]
  },
  {
   "cell_type": "code",
   "execution_count": null,
   "metadata": {},
   "outputs": [],
   "source": [
    "max_leverage = 1\n",
    "vol_window_l = 12\n",
    "vol_window_mm = 9\n",
    "vol_window_m = 6\n",
    "vol_window_s = 3\n",
    "\n",
    "vol_target = 0.1 #25\n",
    "\n",
    "strat_returns_aud['rolling_vol'] = ((strat_returns_aud.ret.rolling(vol_window_l).std() * np.sqrt(12)).shift(1)\\\n",
    "                                 + (strat_returns_aud.ret.rolling(vol_window_mm).std() * np.sqrt(12)).shift(1)\\\n",
    "                                 + (strat_returns_aud.ret.rolling(vol_window_m).std() * np.sqrt(12)).shift(1)\\\n",
    "                                 + (strat_returns_aud.ret.rolling(vol_window_s).std() * np.sqrt(12)).shift(1)) / 4\n",
    "strat_returns_aud['leverage'] = (vol_target / strat_returns_aud.rolling_vol).dropna()\n",
    "# strat_returns_aud['leverage'] = vol_target / vol_df\n",
    "mask = strat_returns_aud.leverage > 1\n",
    "strat_returns_aud.loc[mask, 'leverage'] = 1\n",
    "strat_returns_aud.loc[~strat_returns_aud.offensive_regime, 'leverage'] = 1\n",
    "strat_returns_aud['ret_l'] = strat_returns_aud.ret * strat_returns_aud.leverage\n",
    "strat_returns_aud['cpnl_l'] = (strat_returns_aud.ret_l + 1).cumprod()\n",
    "px.bar(strat_returns_aud, y='ret_l', color='offensive_regime').show()\n",
    "fig = px.line(strat_returns_aud, y='cpnl_l', color='offensive_regime', line_group='regime_group', log_y=True)#.show()\n",
    "benchmark_trace = px.line(strat_returns_aud, y='spy').data[0]\n",
    "benchmark_trace['line']['color'] = 'black'\n",
    "benchmark_trace['line']['dash'] = 'dash'\n",
    "fig.add_trace(benchmark_trace)\n",
    "fig.show()\n",
    "px.bar(strat_returns_aud, y='leverage', color='offensive_regime').show()\n",
    "px.bar(strat_returns_aud.ret_l.rolling(12).std() * np.sqrt(12)).show()\n",
    "px.bar(annual_returns(strat_returns_aud, 'ret_l'), y='ret_l').show()\n",
    "cagr(strat_returns_aud.cpnl_l.dropna())\n",
    "sr(strat_returns_aud.ret_l.dropna(), N=12)"
   ]
  },
  {
   "cell_type": "code",
   "execution_count": null,
   "metadata": {},
   "outputs": [],
   "source": []
  },
  {
   "cell_type": "code",
   "execution_count": null,
   "metadata": {},
   "outputs": [],
   "source": [
    "strat_returns"
   ]
  },
  {
   "cell_type": "code",
   "execution_count": null,
   "metadata": {},
   "outputs": [],
   "source": []
  },
  {
   "cell_type": "code",
   "execution_count": null,
   "metadata": {},
   "outputs": [],
   "source": [
    "strat_returns = dd_curve(strat_returns)\n",
    "\n",
    "px.line(strat_returns, y='dd')"
   ]
  },
  {
   "cell_type": "code",
   "execution_count": null,
   "metadata": {},
   "outputs": [],
   "source": [
    "### drawdowns numba\n",
    "\n"
   ]
  },
  {
   "cell_type": "code",
   "execution_count": null,
   "metadata": {},
   "outputs": [],
   "source": [
    "strat_returns['dd'] = dd_curve_numba(strat_returns.cpnl.values, strat_returns.ret.values)\n",
    "\n",
    "px.line(strat_returns, y='dd')"
   ]
  },
  {
   "cell_type": "code",
   "execution_count": null,
   "metadata": {},
   "outputs": [],
   "source": []
  }
 ],
 "metadata": {
  "kernelspec": {
   "display_name": "cal_eff",
   "language": "python",
   "name": "python3"
  },
  "language_info": {
   "codemirror_mode": {
    "name": "ipython",
    "version": 3
   },
   "file_extension": ".py",
   "mimetype": "text/x-python",
   "name": "python",
   "nbconvert_exporter": "python",
   "pygments_lexer": "ipython3",
   "version": "3.10.9"
  },
  "orig_nbformat": 4
 },
 "nbformat": 4,
 "nbformat_minor": 2
}
