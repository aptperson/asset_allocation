{
 "cells": [
  {
   "attachments": {},
   "cell_type": "markdown",
   "metadata": {},
   "source": [
    "HAA from\n",
    "https://allocatesmartly.com/hybrid-asset-allocation/"
   ]
  },
  {
   "attachments": {},
   "cell_type": "markdown",
   "metadata": {},
   "source": [
    "\n",
    "1. At the close on the last trading day of the month, measure the momentum of US Treasury Inflation-Protected Securities (TIPS, ETF: TIP).\n",
    "\n",
    "    The strategy uses TIPS as a “canary asset” to determine whether to allocate to either an offensive or defensive asset universe. Since 1971, the momentum of simulated TIPS would have been positive about 86% of the time, meaning the vast majority of the time we would be allocating to the offensive asset universe.\n",
    "    \n",
    "2. If TIPS momentum is positive, select the four assets with the highest momentum from the following offensive asset universe:\n",
    "    \n",
    "    US large caps (represented by SPY), US small caps (IWM), developed international stocks (EFA), emerging market stocks (EEM), US real estate (VNQ), commodities (PDBC), intermediate-term US Treasuries (IEF) and long-term US Treasuries (TLT)\n",
    "    \n",
    "    For each of those four assets, if momentum is positive, allocate 25% of the portfolio to the asset, otherwise allocate that portion of the portfolio to cash either intermediate-term US Treasuries (IEF) or cash, depending on which has the highest momentum (US T-Bills are used as a proxy for cash momentum) (*).\n",
    "    \n",
    "    This is what’s known as “dual momentum”. The asset must exhibit both positive momentum (aka “time series momentum”) as well as high momentum relative to competing assets (aka “cross-sectional momentum”).\n",
    "    \n",
    "    Note: Commodities and treasuries are generally considered defensive assets, so the offensive portfolio will still be diversified in many cases.\n",
    "\n",
    "3. If TIPS momentum is negative, allocate the entire portfolio to either intermediate-term US Treasuries (IEF) or cash, depending on which has the highest momentum.\n",
    "\n",
    "4. All positions are executed at the close. Hold all positions until the last the trading day of the following month. Rebalance monthly, even if there is no change signaled.\n"
   ]
  },
  {
   "attachments": {},
   "cell_type": "markdown",
   "metadata": {},
   "source": [
    "Stratergy is closer to this implementation:\n",
    "\n",
    "https://indexswingtrader.blogspot.com/2023/02/introducing-hybrid-asset-allocation-haa.html\n",
    "\n",
    "Changes:\n",
    "1. Momentum is calculated from the close of the second to last day of the month\n",
    "    1.1 This does not change results too much (sr drops from 1.15 to 1.1, cagr increases from 0.96 to 0.97)"
   ]
  },
  {
   "attachments": {},
   "cell_type": "markdown",
   "metadata": {},
   "source": [
    "##### Notes:\n",
    "1. adding QQQ hurts returns\n",
    "2. vol scaling doesn't add a whole lot currently\n",
    "    * slightly higher sr, but lower cagr"
   ]
  },
  {
   "attachments": {},
   "cell_type": "markdown",
   "metadata": {},
   "source": [
    "##### ToDo\n",
    "\n",
    "1. Position sizes\n",
    "    * Given an amount of equity and current prices what are the lots we should be purchasing\n",
    "\n",
    "\n",
    "\n",
    "2. Daily Pnl / returns series\n",
    "    * It looks like some sort of volatility scailing will work for improving the sharpe ratio\n",
    "    * Calculate the daily pnl and then try to predict the volatility of the retruns series\n",
    "    * Inputs could be the vol of the assets, with an indicator function as to whether they are in the universe\n",
    "\n",
    "\n",
    "3. Drawdown series\n",
    "4. Position sizing\n",
    "    * Vol based position sizing\n",
    "    * min corr of all assets with positive mom\n",
    "\n",
    "##### Done\n",
    "\n",
    "1. What are the dates?\n",
    "1.1 Currently they are the month we selected the assets in, including the returns\n",
    "    Thus we are attributing the returns to the wrong month\n",
    "    We should lag asset selection instead of returns"
   ]
  },
  {
   "cell_type": "code",
   "execution_count": null,
   "metadata": {},
   "outputs": [],
   "source": [
    "from datetime import datetime\n",
    "\n",
    "import pandas as pd\n",
    "import numpy as np\n",
    "import yfinance as yf\n",
    "import plotly.express as px\n",
    "\n",
    "def sr(ret, N=252):\n",
    "    ret = ret[ret!=0]\n",
    "    print(f'SR: {np.mean(ret) / np.std(ret) * np.sqrt(N)}')\n",
    "\n",
    "def cagr(cpnl):\n",
    "    t = ((cpnl.index[-1] - cpnl.index[0]) / 365.25)\n",
    "    t = (t.seconds / (24 * 60 * 60) + t.days)\n",
    "    FV = cpnl.values[-1]\n",
    "    print(f'CAGR: {FV ** (1/t) - 1}')\n",
    "\n",
    "def annual_returns(df, col='ret'):\n",
    "    return df.groupby(pd.Grouper(freq='Y'), group_keys=False)[col].agg(lambda x: (1+x).prod() - 1).to_frame()"
   ]
  },
  {
   "cell_type": "code",
   "execution_count": null,
   "metadata": {},
   "outputs": [],
   "source": [
    "# offensive_universe = ['SPY', 'IWM', 'EFA', 'EEM', 'VNQ', 'DBC', 'TLT']\n",
    "\n",
    "US_Equities = ['SPY', 'IWM'] #, 'QQQ']\n",
    "Foreign_Equities = ['VEA', 'VWO']\n",
    "Alternative_Assets = ['DBC', 'VNQ']\n",
    "US_Bonds = ['IEF', 'TLT']\n",
    "\n",
    "offensive_universe = US_Equities + Foreign_Equities + Alternative_Assets + US_Bonds\n",
    "\n",
    "cash_universe = ['BIL', 'IEF']\n",
    "canary_asset = ['TIP']\n",
    "\n",
    "# #### leveraged assets\n",
    "# offensive_universe = ['SSO', 'UWM', 'VEA', 'VWO', 'DBC', 'URE', 'UBT', 'UST']\n",
    "\n",
    "# cash_universe = ['BIL', 'UST']\n",
    "# canary_asset = ['TIP']\n",
    "\n",
    "\n",
    "whole_universe = offensive_universe + cash_universe + canary_asset"
   ]
  },
  {
   "cell_type": "code",
   "execution_count": null,
   "metadata": {},
   "outputs": [],
   "source": [
    "prices_df = yf.download(tickers=whole_universe,\n",
    "                        end=datetime.now())\n"
   ]
  },
  {
   "cell_type": "code",
   "execution_count": null,
   "metadata": {},
   "outputs": [],
   "source": [
    "prices_df = prices_df['Adj Close']"
   ]
  },
  {
   "cell_type": "code",
   "execution_count": null,
   "metadata": {},
   "outputs": [],
   "source": [
    "prices_df"
   ]
  },
  {
   "cell_type": "code",
   "execution_count": null,
   "metadata": {},
   "outputs": [],
   "source": [
    "px.line(prices_df.melt(ignore_index=False), y='value', color='variable', log_y=True) "
   ]
  },
  {
   "cell_type": "code",
   "execution_count": null,
   "metadata": {},
   "outputs": [],
   "source": [
    "class MOMENTUM():\n",
    "    def __init__(self) -> None:\n",
    "        pass\n",
    "\n",
    "    def fit(self, X, y=None):\n",
    "        return X\n",
    "    \n",
    "    def transform(self, X, y=None):\n",
    "        self.calc_monthly_close(X)\n",
    "        ret1m = self.get_return(1)\n",
    "        ret3m = self.get_return(3)\n",
    "        ret6m = self.get_return(6)\n",
    "        ret12m = self.get_return(12)\n",
    "        mom = (ret1m + ret3m + ret6m + ret12m) / 4\n",
    "        return mom.shift(1)\n",
    "    \n",
    "    def calc_monthly_close(self, X):\n",
    "        last_month_date = X.reset_index().groupby(pd.Grouper(key = 'Date', freq='M')).Date.apply(lambda x: x[:-1])\n",
    "        self.monthly_close = X.loc[(last_month_date)].resample('M').last()\n",
    "        # self.monthly_close = X.resample('M').last()\n",
    "    \n",
    "    def get_return(self, months):\n",
    "        return self.monthly_close.pct_change(periods = months)\n",
    "\n",
    "\n",
    "class MONTHLY_RETURNS():\n",
    "    def __init__(self) -> None:\n",
    "        pass\n",
    "\n",
    "    def fit(self, X, y=None):\n",
    "        return X\n",
    "    \n",
    "    def calc_monthly_close(self, X):\n",
    "        self.monthly_close = X.resample('M').last()\n",
    "\n",
    "    def transform(self, X):\n",
    "        self.calc_monthly_close(X)\n",
    "        return self.get_return(1)#.shift(-1)\n",
    "\n",
    "    def get_return(self, months):\n",
    "        return self.monthly_close.pct_change(periods = months)\n",
    "    \n",
    "\n",
    "class MONTHLY_PICKS():\n",
    "    def __init__(self, offensive_universe, cash_universe, canary_asset) -> None:\n",
    "        self.offensive_universe = offensive_universe\n",
    "        self.cash_universe = cash_universe\n",
    "        self.canary_asset = canary_asset\n",
    "        self.regime = None\n",
    "        \n",
    "    def get_picks(self, X):\n",
    "        self.get_regime(X)\n",
    "        if self.regime:\n",
    "            assets = self.get_offensive_assets(X)\n",
    "        else:\n",
    "            assets = self.get_defensive_assets(X)\n",
    "        return assets, self.regime\n",
    "    \n",
    "    def get_regime(self, X):\n",
    "        if X[canary_asset].values[0] > 0:\n",
    "            self.regime = True\n",
    "        else:\n",
    "            self.regime = False\n",
    "\n",
    "    def get_defensive_assets(self, X):\n",
    "        asset = X[self.cash_universe].melt()\n",
    "        # asset = asset[asset.value > 0]\n",
    "        asset = asset.sort_values('value').tail(1).variable.tolist()\n",
    "        return asset\n",
    "\n",
    "    def get_offensive_assets(self, X):\n",
    "        assets = X[self.offensive_universe].melt()\n",
    "        assets = assets[assets.value > 0]\n",
    "        assets = assets.sort_values('value').tail(4).variable.tolist()\n",
    "        Cash_fraction = 4 - len(assets)\n",
    "        if Cash_fraction > 0:\n",
    "            defensive_asset = self.get_defensive_assets(X)\n",
    "            assets = assets + defensive_asset * Cash_fraction\n",
    "        return assets\n",
    "    \n",
    "\n",
    "class POSITION_SIZES():\n",
    "    def __init__(self) -> None:\n",
    "        pass\n",
    "\n",
    "    def get_lots(self, capital, assets):\n",
    "        #### assets is a dict of aggressive \n",
    "        pass"
   ]
  },
  {
   "cell_type": "code",
   "execution_count": null,
   "metadata": {},
   "outputs": [],
   "source": [
    "mom = MOMENTUM()\n",
    "mom_df = pd.concat([mom.transform(prices_df[sym]).to_frame() for sym in whole_universe], axis=1)\n",
    "\n",
    "monthly_ret = MONTHLY_RETURNS()\n",
    "ret_df = pd.concat([monthly_ret.transform(prices_df[sym]).to_frame() for sym in whole_universe], axis=1)\n"
   ]
  },
  {
   "cell_type": "code",
   "execution_count": null,
   "metadata": {},
   "outputs": [],
   "source": [
    "px.line(mom_df.melt(ignore_index=False), y='value', color='variable')"
   ]
  },
  {
   "cell_type": "code",
   "execution_count": null,
   "metadata": {},
   "outputs": [],
   "source": [
    "monthly_picks = MONTHLY_PICKS(offensive_universe, cash_universe, canary_asset)\n",
    "monthly_assets = mom_df.dropna().groupby('Date').apply(monthly_picks.get_picks)\n",
    "monthly_assets"
   ]
  },
  {
   "cell_type": "code",
   "execution_count": null,
   "metadata": {},
   "outputs": [],
   "source": [
    "months_ret = []\n",
    "months_regime = []\n",
    "\n",
    "for Date in monthly_assets.index.unique():\n",
    "    assets = monthly_assets.loc[Date][0] #.tolist()\n",
    "    months_ret.append([Date, ret_df.loc[Date, assets].mean()])\n",
    "    months_regime.append([Date, monthly_assets.loc[Date][1]])\n",
    "\n",
    "strat_returns = pd.DataFrame(months_ret, columns=['Date', 'ret']).sort_values('Date').set_index('Date')\n",
    "strat_regime = pd.DataFrame(months_regime, columns=['Date', 'offensive_regime']).sort_values('Date').set_index('Date')\n",
    "strat_returns = pd.concat([strat_regime, strat_returns],axis=1)\n",
    "\n",
    "strat_returns['regime_group'] = strat_returns.offensive_regime.diff().bfill().cumsum()\n",
    "strat_returns['cpnl'] = (strat_returns.ret + 1).cumprod()\n",
    "\n",
    "strat_returns['spy'] = prices_df.SPY.resample('M').last()\n",
    "strat_returns['spy'] /= strat_returns.spy.values[0]\n",
    "strat_returns"
   ]
  },
  {
   "cell_type": "code",
   "execution_count": null,
   "metadata": {},
   "outputs": [],
   "source": [
    "px.bar(strat_returns, y='ret', color='offensive_regime').show()\n",
    "fig = px.line(strat_returns, y='cpnl', color='offensive_regime', line_group='regime_group', log_y=True)#.show()\n",
    "benchmark_trace = px.line(strat_returns, y='spy').data[0]\n",
    "benchmark_trace['line']['color'] = 'black'\n",
    "benchmark_trace['line']['dash'] = 'dash'\n",
    "fig.add_trace(benchmark_trace)\n",
    "fig.show()\n",
    "px.bar(strat_returns.ret.rolling(12).std() * np.sqrt(12)).show()\n",
    "px.bar(annual_returns(strat_returns, 'ret'), y='ret').show()\n",
    "cagr(strat_returns.cpnl.dropna())\n",
    "sr(strat_returns.ret.dropna(), N=12)"
   ]
  },
  {
   "cell_type": "code",
   "execution_count": null,
   "metadata": {},
   "outputs": [],
   "source": [
    "cagr(strat_returns.spy.dropna())\n",
    "sr(strat_returns.spy.pct_change().dropna(), N=12)\n",
    "\n",
    "# CAGR: 0.09743790454842394\n",
    "# SR: 1.0914094303126585\n",
    "\n",
    "# CAGR: 0.09680215314678176\n",
    "# SR: 1.140642818036425"
   ]
  },
  {
   "cell_type": "code",
   "execution_count": null,
   "metadata": {},
   "outputs": [],
   "source": [
    "px.bar(strat_returns, y='ret', color='offensive_regime')"
   ]
  },
  {
   "cell_type": "code",
   "execution_count": null,
   "metadata": {},
   "outputs": [],
   "source": [
    "vol_df = np.log(prices_df)#.apply(lambda x: np.diff(np.log(x)))\n",
    "vol_df = vol_df.diff().dropna()\n",
    "vol_df = (vol_df.rolling(252).std() * np.sqrt(252)).mean(axis=1).to_frame('vol')\\\n",
    "       + (vol_df.rolling(189).std() * np.sqrt(189)).mean(axis=1).to_frame('vol')\\\n",
    "       + (vol_df.rolling(126).std() * np.sqrt(126)).mean(axis=1).to_frame('vol')\\\n",
    "       + (vol_df.rolling(63).std() * np.sqrt(63)).mean(axis=1).to_frame('vol')\n",
    "vol_df /= 4\n",
    "px.bar(vol_df.resample('M').mean()).show()\n",
    "vol_df = vol_df.resample('M').mean().shift(1)\n",
    "                    \n",
    "#                     .rolling(252).std() * np.sqrt(252)).mean(axis=1).values\n",
    "# prices_df#.groupby()"
   ]
  },
  {
   "cell_type": "code",
   "execution_count": null,
   "metadata": {},
   "outputs": [],
   "source": [
    "px.bar(strat_returns.ret.rolling(12).std() * np.sqrt(12))"
   ]
  },
  {
   "cell_type": "code",
   "execution_count": null,
   "metadata": {},
   "outputs": [],
   "source": [
    "max_leverage = 1\n",
    "vol_window_l = 12\n",
    "vol_window_mm = 9\n",
    "vol_window_m = 6\n",
    "vol_window_s = 3\n",
    "\n",
    "vol_target = 0.1 #25\n",
    "\n",
    "strat_returns['rolling_vol'] = ((strat_returns.ret.rolling(vol_window_l).std() * np.sqrt(12)).shift(1)\\\n",
    "                                 + (strat_returns.ret.rolling(vol_window_mm).std() * np.sqrt(12)).shift(1)\\\n",
    "                                 + (strat_returns.ret.rolling(vol_window_m).std() * np.sqrt(12)).shift(1)\\\n",
    "                                 + (strat_returns.ret.rolling(vol_window_s).std() * np.sqrt(12)).shift(1)) / 4\n",
    "strat_returns['leverage'] = (vol_target / strat_returns.rolling_vol).dropna()\n",
    "# strat_returns['leverage'] = vol_target / vol_df\n",
    "mask = strat_returns.leverage > 1\n",
    "strat_returns.loc[mask, 'leverage'] = 1\n",
    "strat_returns.loc[~strat_returns.offensive_regime, 'leverage'] = 1\n",
    "strat_returns['ret_l'] = strat_returns.ret * strat_returns.leverage\n",
    "strat_returns['cpnl_l'] = (strat_returns.ret_l + 1).cumprod()\n",
    "px.bar(strat_returns, y='ret_l', color='offensive_regime').show()\n",
    "fig = px.line(strat_returns, y='cpnl_l', color='offensive_regime', line_group='regime_group', log_y=True)#.show()\n",
    "benchmark_trace = px.line(strat_returns, y='spy').data[0]\n",
    "benchmark_trace['line']['color'] = 'black'\n",
    "benchmark_trace['line']['dash'] = 'dash'\n",
    "fig.add_trace(benchmark_trace)\n",
    "fig.show()\n",
    "px.bar(strat_returns, y='leverage', color='offensive_regime').show()\n",
    "px.bar(strat_returns.ret_l.rolling(12).std() * np.sqrt(12)).show()\n",
    "px.bar(annual_returns(strat_returns, 'ret_l'), y='ret_l').show()\n",
    "cagr(strat_returns.cpnl_l.dropna())\n",
    "sr(strat_returns.ret_l.dropna(), N=12)"
   ]
  },
  {
   "cell_type": "code",
   "execution_count": null,
   "metadata": {},
   "outputs": [],
   "source": []
  }
 ],
 "metadata": {
  "kernelspec": {
   "display_name": "cal_eff",
   "language": "python",
   "name": "python3"
  },
  "language_info": {
   "codemirror_mode": {
    "name": "ipython",
    "version": 3
   },
   "file_extension": ".py",
   "mimetype": "text/x-python",
   "name": "python",
   "nbconvert_exporter": "python",
   "pygments_lexer": "ipython3",
   "version": "3.10.9"
  },
  "orig_nbformat": 4
 },
 "nbformat": 4,
 "nbformat_minor": 2
}
