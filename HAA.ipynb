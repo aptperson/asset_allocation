{
 "cells": [
  {
   "cell_type": "markdown",
   "metadata": {},
   "source": [
    "HAA from\n",
    "https://allocatesmartly.com/hybrid-asset-allocation/"
   ]
  },
  {
   "attachments": {},
   "cell_type": "markdown",
   "metadata": {},
   "source": [
    "\n",
    "1. At the close on the last trading day of the month, measure the momentum of US Treasury Inflation-Protected Securities (TIPS, ETF: TIP).\n",
    "\n",
    "    The strategy uses TIPS as a “canary asset” to determine whether to allocate to either an offensive or defensive asset universe. Since 1971, the momentum of simulated TIPS would have been positive about 86% of the time, meaning the vast majority of the time we would be allocating to the offensive asset universe.\n",
    "    \n",
    "2. If TIPS momentum is positive, select the four assets with the highest momentum from the following offensive asset universe:\n",
    "    \n",
    "    US large caps (represented by SPY), US small caps (IWM), developed international stocks (EFA), emerging market stocks (EEM), US real estate (VNQ), commodities (PDBC), intermediate-term US Treasuries (IEF) and long-term US Treasuries (TLT)\n",
    "    \n",
    "    For each of those four assets, if momentum is positive, allocate 25% of the portfolio to the asset, otherwise allocate that portion of the portfolio to cash either intermediate-term US Treasuries (IEF) or cash, depending on which has the highest momentum (US T-Bills are used as a proxy for cash momentum) (*).\n",
    "    \n",
    "    This is what’s known as “dual momentum”. The asset must exhibit both positive momentum (aka “time series momentum”) as well as high momentum relative to competing assets (aka “cross-sectional momentum”).\n",
    "    \n",
    "    Note: Commodities and treasuries are generally considered defensive assets, so the offensive portfolio will still be diversified in many cases.\n",
    "\n",
    "3. If TIPS momentum is negative, allocate the entire portfolio to either intermediate-term US Treasuries (IEF) or cash, depending on which has the highest momentum.\n",
    "\n",
    "4. All positions are executed at the close. Hold all positions until the last the trading day of the following month. Rebalance monthly, even if there is no change signaled.\n"
   ]
  },
  {
   "cell_type": "code",
   "execution_count": null,
   "metadata": {},
   "outputs": [],
   "source": [
    "from datetime import datetime\n",
    "\n",
    "import pandas as pd\n",
    "import numpy as np\n",
    "import yfinance as yf\n",
    "import plotly.express as px\n",
    "\n",
    "def sr(ret, N=252):\n",
    "    ret = ret[ret!=0]\n",
    "    print(f'SR: {np.mean(ret) / np.std(ret) * np.sqrt(N)}')\n",
    "\n",
    "def cagr(cpnl):\n",
    "    t = ((cpnl.index[-1] - cpnl.index[0]) / 365.25)\n",
    "    t = (t.seconds / (24 * 60 * 60) + t.days)\n",
    "    FV = cpnl.values[-1]\n",
    "    print(f'CAGR: {FV ** (1/t) - 1}')"
   ]
  },
  {
   "cell_type": "code",
   "execution_count": null,
   "metadata": {},
   "outputs": [],
   "source": [
    "# offensive_universe = ['SPY', 'IWM', 'EFA', 'EEM', 'VNQ', 'DBC', 'TLT']\n",
    "\n",
    "US_Equities = ['SPY', 'IWM']\n",
    "Foreign_Equities = ['VEA', 'VWO']\n",
    "Alternative_Assets = ['DBC', 'VNQ']\n",
    "US_Bonds = ['IEF', 'TLT']\n",
    "\n",
    "offensive_universe = US_Equities + Foreign_Equities + Alternative_Assets + US_Bonds\n",
    "\n",
    "cash_universe = ['BIL', 'IEF']\n",
    "canary_asset = ['TIP']\n",
    "\n",
    "whole_universe = offensive_universe + cash_universe + canary_asset"
   ]
  },
  {
   "cell_type": "code",
   "execution_count": null,
   "metadata": {},
   "outputs": [],
   "source": [
    "prices_df = yf.download(tickers=whole_universe,\n",
    "                        end=datetime.now())\n"
   ]
  },
  {
   "cell_type": "code",
   "execution_count": null,
   "metadata": {},
   "outputs": [],
   "source": [
    "prices_df = prices_df['Adj Close']"
   ]
  },
  {
   "cell_type": "code",
   "execution_count": null,
   "metadata": {},
   "outputs": [],
   "source": [
    "prices_df"
   ]
  },
  {
   "cell_type": "code",
   "execution_count": null,
   "metadata": {},
   "outputs": [],
   "source": [
    "px.line(prices_df.melt(ignore_index=False), y='value', color='variable', log_y=True) "
   ]
  },
  {
   "cell_type": "code",
   "execution_count": null,
   "metadata": {},
   "outputs": [],
   "source": [
    "class MOMENTUM():\n",
    "    def __init__(self) -> None:\n",
    "        pass\n",
    "\n",
    "    def fit(self, X, y=None):\n",
    "        return X\n",
    "    \n",
    "    def transform(self, X, y=None):\n",
    "        self.calc_monthly_close(X)\n",
    "        ret1m = self.get_return(1)\n",
    "        ret3m = self.get_return(3)\n",
    "        ret6m = self.get_return(6)\n",
    "        ret12m = self.get_return(12)\n",
    "        return (ret1m + ret3m + ret6m + ret12m) / 2\n",
    "    \n",
    "    def calc_monthly_close(self, X):\n",
    "        self.monthly_close = X.resample('M').last()\n",
    "    \n",
    "    def get_return(self, months):\n",
    "        return self.monthly_close.pct_change(periods = months)\n",
    "\n",
    "\n",
    "class MONTHLY_RETURNS():\n",
    "    def __init__(self) -> None:\n",
    "        pass\n",
    "\n",
    "    def fit(self, X, y=None):\n",
    "        return X\n",
    "    \n",
    "    def calc_monthly_close(self, X):\n",
    "        self.monthly_close = X.resample('M').last()\n",
    "\n",
    "    def transform(self, X):\n",
    "        self.calc_monthly_close(X)\n",
    "        return self.get_return(1).shift(-1)\n",
    "\n",
    "    def get_return(self, months):\n",
    "        return self.monthly_close.pct_change(periods = months)\n",
    "    \n",
    "\n",
    "class MONTHLY_PICKS():\n",
    "    def __init__(self, offensive_universe, cash_universe, canary_asset) -> None:\n",
    "        self.offensive_universe = offensive_universe\n",
    "        self.cash_universe = cash_universe\n",
    "        self.canary_asset = canary_asset\n",
    "        self.regime = None\n",
    "        \n",
    "    def get_picks(self, X):\n",
    "        self.get_regime(X)\n",
    "        if self.regime:\n",
    "            assets = self.get_offensive_assets(X)\n",
    "        else:\n",
    "            assets = self.get_defensive_assets(X)\n",
    "        return assets\n",
    "    \n",
    "    def get_regime(self, X):\n",
    "        if X[canary_asset].values[0] > 0:\n",
    "            self.regime = True\n",
    "        else:\n",
    "            self.regime = False\n",
    "\n",
    "    def get_defensive_assets(self, X):\n",
    "        asset = X[self.cash_universe].melt()\n",
    "        asset = asset[asset.value > 0]\n",
    "        asset = asset.sort_values('value').tail(1).variable.tolist()\n",
    "        return asset\n",
    "\n",
    "    def get_offensive_assets(self, X):\n",
    "        assets = X[self.offensive_universe].melt()\n",
    "        assets = assets[assets.value > 0]\n",
    "        assets = assets.sort_values('value').tail(4).variable.tolist()\n",
    "        Cash_fraction = 4 - len(assets)\n",
    "        if Cash_fraction > 0:\n",
    "            defensive_asset = self.get_defensive_assets(X)\n",
    "            assets = assets + defensive_asset * Cash_fraction\n",
    "        return assets"
   ]
  },
  {
   "cell_type": "code",
   "execution_count": null,
   "metadata": {},
   "outputs": [],
   "source": [
    "mom = MOMENTUM()\n",
    "mom_df = pd.concat([mom.transform(prices_df[sym]).to_frame() for sym in whole_universe], axis=1)\n",
    "\n",
    "monthly_ret = MONTHLY_RETURNS()\n",
    "ret_df = pd.concat([monthly_ret.transform(prices_df[sym]).to_frame() for sym in whole_universe], axis=1)\n"
   ]
  },
  {
   "cell_type": "code",
   "execution_count": null,
   "metadata": {},
   "outputs": [],
   "source": [
    "px.line(mom_df.melt(ignore_index=False), y='value', color='variable')"
   ]
  },
  {
   "cell_type": "code",
   "execution_count": null,
   "metadata": {},
   "outputs": [],
   "source": [
    "monthly_picks = MONTHLY_PICKS(offensive_universe, cash_universe, canary_asset)\n",
    "monthly_assets = mom_df.dropna().groupby('Date').apply(monthly_picks.get_picks)"
   ]
  },
  {
   "cell_type": "code",
   "execution_count": null,
   "metadata": {},
   "outputs": [],
   "source": [
    "months_ret = []\n",
    "\n",
    "for Date in monthly_assets.index.unique():\n",
    "    assets = monthly_assets.loc[Date] #.tolist()\n",
    "    months_ret.append([Date, ret_df.loc[Date, assets].mean()])\n"
   ]
  },
  {
   "cell_type": "code",
   "execution_count": null,
   "metadata": {},
   "outputs": [],
   "source": [
    "strat_returns = pd.DataFrame(months_ret, columns=['Date', 'ret']).sort_values('Date').set_index('Date')\n",
    "strat_returns['cpnl'] = (strat_returns.ret + 1).cumprod()"
   ]
  },
  {
   "cell_type": "code",
   "execution_count": null,
   "metadata": {},
   "outputs": [],
   "source": [
    "px.line(strat_returns.cpnl, log_y=True)"
   ]
  },
  {
   "cell_type": "code",
   "execution_count": null,
   "metadata": {},
   "outputs": [],
   "source": [
    "cagr(strat_returns.cpnl.dropna())\n",
    "sr(strat_returns.ret.dropna(), N=12)"
   ]
  },
  {
   "cell_type": "code",
   "execution_count": null,
   "metadata": {},
   "outputs": [],
   "source": [
    "sr"
   ]
  },
  {
   "cell_type": "code",
   "execution_count": null,
   "metadata": {},
   "outputs": [],
   "source": []
  }
 ],
 "metadata": {
  "kernelspec": {
   "display_name": "cal_eff",
   "language": "python",
   "name": "python3"
  },
  "language_info": {
   "codemirror_mode": {
    "name": "ipython",
    "version": 3
   },
   "file_extension": ".py",
   "mimetype": "text/x-python",
   "name": "python",
   "nbconvert_exporter": "python",
   "pygments_lexer": "ipython3",
   "version": "3.10.9"
  },
  "orig_nbformat": 4
 },
 "nbformat": 4,
 "nbformat_minor": 2
}
